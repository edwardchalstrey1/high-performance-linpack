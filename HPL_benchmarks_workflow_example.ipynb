{
 "cells": [
  {
   "cell_type": "markdown",
   "metadata": {},
   "source": [
    "[HPL - High Performance Linpack Benchmark](https://www.top500.org/project/linpack/):\n",
    "===="
   ]
  },
  {
   "cell_type": "markdown",
   "metadata": {},
   "source": [
    "Testing on multiple computing platforms with Docker\n",
    "----\n",
    "Using Ubuntu, I have created a Docker image that installs the dependencies, then downloads, compiles, configures and runs the HPL benchmark. The benchmark measures performance in solving a dense system of linear equations; the user is able to scale the size of the problem.\n",
    "\n",
    "The computing platforms I will test on are as follows:\n",
    "1. Mac laptop\n",
    "2. Azure VM 1 - Standard D2s v3 (2 vcpus, 8 GB memory)\n",
    "3. Azure VM 2 - Standard NC6 (6 vcpus, 56 GB memory)\n",
    "\n",
    "*Note: I created a [custom Make file](https://github.com/alan-turing-institute/data-science-benchmarking/blob/master/workflow/example_3_HPL/Make.ubuntu) to work with the dependencies installed via ```apt``` and ```apt-get```*"
   ]
  },
  {
   "cell_type": "code",
   "execution_count": 1,
   "metadata": {},
   "outputs": [
    {
     "name": "stdout",
     "output_type": "stream",
     "text": [
      "Overwriting Dockerfile\n"
     ]
    }
   ],
   "source": [
    "%%writefile Dockerfile\n",
    "FROM ubuntu:18.04\n",
    "\n",
    "# Install dependencies  \n",
    "RUN apt-get update\n",
    "RUN apt-get install build-essential emacs -y\n",
    "RUN apt install libopenmpi-dev -y\n",
    "RUN apt install openssh-server -y\n",
    "RUN apt-get install libatlas-base-dev gfortran -y\n",
    "\n",
    "# Download HPL\n",
    "RUN wget http://www.netlib.org/benchmark/hpl/hpl-2.3.tar.gz\n",
    "RUN tar xf hpl-2.3.tar.gz\n",
    "RUN mv hpl-2.3 hpl\n",
    "\n",
    "# Compile the benchmark with custom Make file\n",
    "COPY Make.ubuntu /hpl/Make.ubuntu\n",
    "WORKDIR \"/hpl\"\n",
    "RUN make arch=ubuntu\n",
    "WORKDIR \"/hpl/bin/ubuntu\"\n",
    "\n",
    "# Custom config file\n",
    "COPY HPL.dat HPL.dat\n",
    "\n",
    "# Run the benchmark\n",
    "CMD mpirun -np 4 --allow-run-as-root ./xhpl"
   ]
  },
  {
   "cell_type": "markdown",
   "metadata": {},
   "source": [
    "Setup the HPL.dat configuration file for benchmarking\n",
    "---\n",
    "\n",
    "Each line of this config file is explained in [here](http://www.netlib.org/benchmark/hpl/tuning.html).\n",
    "\n",
    "Here I keep many of the default settings, but change the following:\n",
    "\n",
    "1. N - set the number of linear equations being solved to 10,000\n",
    "2. P and Q - since I am using 4 MPI ranks when running the benchmarks (see the ```CMD``` in the Dockerfile), I set a 2 x 2 process grid"
   ]
  },
  {
   "cell_type": "code",
   "execution_count": 2,
   "metadata": {},
   "outputs": [
    {
     "name": "stdout",
     "output_type": "stream",
     "text": [
      "Overwriting HPL.dat\n"
     ]
    }
   ],
   "source": [
    "%%writefile HPL.dat\n",
    "HPLinpack benchmark input file\n",
    "Innovative Computing Laboratory, University of Tennessee\n",
    "HPL.out      output file name (if any)\n",
    "6            device out (6=stdout,7=stderr,file)\n",
    "1            # of problems sizes (N)\n",
    "10000         Ns\n",
    "1            # of NBs\n",
    "232          NBs\n",
    "0            PMAP process mapping (0=Row-,1=Column-major)\n",
    "1            # of process grids (P x Q)\n",
    "2            Ps\n",
    "2           Qs\n",
    "16.0         threshold\n",
    "1            # of panel fact\n",
    "2            PFACTs (0=left, 1=Crout, 2=Right)\n",
    "1            # of recursive stopping criterium\n",
    "4            NBMINs (>= 1)\n",
    "1            # of panels in recursion\n",
    "2            NDIVs\n",
    "1            # of recursive panel fact.\n",
    "1            RFACTs (0=left, 1=Crout, 2=Right)\n",
    "1            # of broadcast\n",
    "1            BCASTs (0=1rg,1=1rM,2=2rg,3=2rM,4=Lng,5=LnM)\n",
    "1            # of lookahead depth\n",
    "1            DEPTHs (>=0)\n",
    "2            SWAP (0=bin-exch,1=long,2=mix)\n",
    "64           swapping threshold\n",
    "0            L1 in (0=transposed,1=no-transposed) form\n",
    "0            U  in (0=transposed,1=no-transposed) form\n",
    "1            Equilibration (0=no,1=yes)\n",
    "8            memory alignment in double (> 0)"
   ]
  },
  {
   "cell_type": "code",
   "execution_count": 3,
   "metadata": {},
   "outputs": [
    {
     "name": "stdout",
     "output_type": "stream",
     "text": [
      "Sending build context to Docker daemon  101.4kB\r",
      "\r\n",
      "Step 1/15 : FROM ubuntu:18.04\n",
      " ---> 1d9c17228a9e\n",
      "Step 2/15 : RUN apt-get update\n",
      " ---> Using cache\n",
      " ---> d9ff41fcf2c7\n",
      "Step 3/15 : RUN apt-get install build-essential emacs -y\n",
      " ---> Using cache\n",
      " ---> 1ae04d308aab\n",
      "Step 4/15 : RUN apt install libopenmpi-dev -y\n",
      " ---> Using cache\n",
      " ---> 7b2bce57546a\n",
      "Step 5/15 : RUN apt install openssh-server -y\n",
      " ---> Using cache\n",
      " ---> 66f0dcc1ec2f\n",
      "Step 6/15 : RUN apt-get install libatlas-base-dev gfortran -y\n",
      " ---> Using cache\n",
      " ---> 0c32d16a01c2\n",
      "Step 7/15 : RUN wget http://www.netlib.org/benchmark/hpl/hpl-2.3.tar.gz\n",
      " ---> Using cache\n",
      " ---> db1c09a4bd4e\n",
      "Step 8/15 : RUN tar xf hpl-2.3.tar.gz\n",
      " ---> Using cache\n",
      " ---> 723e4047ab5c\n",
      "Step 9/15 : RUN mv hpl-2.3 hpl\n",
      " ---> Using cache\n",
      " ---> bd3415912c99\n",
      "Step 10/15 : COPY Make.ubuntu /hpl/Make.ubuntu\n",
      " ---> Using cache\n",
      " ---> 3308c52d2b49\n",
      "Step 11/15 : WORKDIR \"/hpl\"\n",
      " ---> Using cache\n",
      " ---> ebbfc230b7fc\n",
      "Step 12/15 : RUN make arch=ubuntu\n",
      " ---> Using cache\n",
      " ---> 9fd80ebb632b\n",
      "Step 13/15 : WORKDIR \"/hpl/bin/ubuntu\"\n",
      " ---> Using cache\n",
      " ---> 729147c5ad37\n",
      "Step 14/15 : COPY HPL.dat HPL.dat\n",
      " ---> Using cache\n",
      " ---> df0731f40190\n",
      "Step 15/15 : CMD mpirun -np 4 --allow-run-as-root ./xhpl\n",
      " ---> Using cache\n",
      " ---> 0b10062c35f9\n",
      "Successfully built 0b10062c35f9\n",
      "Successfully tagged edwardchalstrey/hpl_benchmark:latest\n"
     ]
    }
   ],
   "source": [
    "%%bash\n",
    "docker build -t edwardchalstrey/hpl_benchmark ."
   ]
  },
  {
   "cell_type": "code",
   "execution_count": 4,
   "metadata": {},
   "outputs": [
    {
     "name": "stdout",
     "output_type": "stream",
     "text": [
      "The push refers to repository [docker.io/edwardchalstrey/hpl_benchmark]\n",
      "6f3f7e77eef4: Preparing\n",
      "77d796561be4: Preparing\n",
      "d6a2438a68fe: Preparing\n",
      "76db63a1ea23: Preparing\n",
      "031701f75160: Preparing\n",
      "dcfb774847e1: Preparing\n",
      "91d0f71d8391: Preparing\n",
      "04d308d03718: Preparing\n",
      "204467103833: Preparing\n",
      "ab748e27090c: Preparing\n",
      "7a4226e9f5db: Preparing\n",
      "2c77720cf318: Preparing\n",
      "1f6b6c7dc482: Preparing\n",
      "c8dbbe73b68c: Preparing\n",
      "2fb7bfc6145d: Preparing\n",
      "91d0f71d8391: Waiting\n",
      "04d308d03718: Waiting\n",
      "204467103833: Waiting\n",
      "ab748e27090c: Waiting\n",
      "7a4226e9f5db: Waiting\n",
      "2c77720cf318: Waiting\n",
      "1f6b6c7dc482: Waiting\n",
      "c8dbbe73b68c: Waiting\n",
      "2fb7bfc6145d: Waiting\n",
      "dcfb774847e1: Waiting\n",
      "031701f75160: Layer already exists\n",
      "77d796561be4: Layer already exists\n",
      "76db63a1ea23: Layer already exists\n",
      "6f3f7e77eef4: Layer already exists\n",
      "d6a2438a68fe: Layer already exists\n",
      "dcfb774847e1: Layer already exists\n",
      "91d0f71d8391: Layer already exists\n",
      "204467103833: Layer already exists\n",
      "04d308d03718: Layer already exists\n",
      "ab748e27090c: Layer already exists\n",
      "7a4226e9f5db: Layer already exists\n",
      "1f6b6c7dc482: Layer already exists\n",
      "2c77720cf318: Layer already exists\n",
      "c8dbbe73b68c: Layer already exists\n",
      "2fb7bfc6145d: Layer already exists\n",
      "latest: digest: sha256:70b5800b688b26ccf6e9de67e3d37ea8659c0e1ca839d0266fead60b750e315e size: 3465\n"
     ]
    }
   ],
   "source": [
    "%%bash\n",
    "docker push edwardchalstrey/hpl_benchmark"
   ]
  },
  {
   "cell_type": "markdown",
   "metadata": {},
   "source": [
    "Benchmark on different computing platforms\n",
    "----\n",
    "\n",
    "1. Mac laptop\n",
    "2. Azure VM 1 - Standard D2s v3 (2 vcpus, 8 GB memory)\n",
    "3. Azure VM 2 - Standard NC6 (6 vcpus, 56 GB memory)\n",
    "\n",
    "```docker run edwardchalstrey/hpl_benchmark```"
   ]
  },
  {
   "cell_type": "code",
   "execution_count": 5,
   "metadata": {},
   "outputs": [],
   "source": [
    "from IPython.display import HTML, display\n",
    "import tabulate"
   ]
  },
  {
   "cell_type": "code",
   "execution_count": 6,
   "metadata": {},
   "outputs": [
    {
     "data": {
      "text/html": [
       "<table>\n",
       "<tbody>\n",
       "<tr><td>Platform  </td><td>Time (s)</td><td>Gflops</td></tr>\n",
       "<tr><td>Mac laptop</td><td>16.87   </td><td>39.52 </td></tr>\n",
       "<tr><td>Azure VM 1</td><td>80.36   </td><td>8.2983</td></tr>\n",
       "<tr><td>Azure VM 2</td><td>17.16   </td><td>38.856</td></tr>\n",
       "</tbody>\n",
       "</table>"
      ],
      "text/plain": [
       "<IPython.core.display.HTML object>"
      ]
     },
     "metadata": {},
     "output_type": "display_data"
    }
   ],
   "source": [
    "headers = [\"Platform\", \"Time (s)\", \"Gflops\"]\n",
    "results_1 = [\"Mac laptop\", 16.87, 3.9520e+01]\n",
    "results_2 = [\"Azure VM 1\", 80.36, 8.2983e+00]\n",
    "results_3 = [\"Azure VM 2\", 17.16, 3.8856e+01]\n",
    "display(HTML(tabulate.tabulate([headers, results_1, results_2, results_3], tablefmt='html')))"
   ]
  }
 ],
 "metadata": {
  "kernelspec": {
   "display_name": "Python 3",
   "language": "python",
   "name": "python3"
  },
  "language_info": {
   "codemirror_mode": {
    "name": "ipython",
    "version": 3
   },
   "file_extension": ".py",
   "mimetype": "text/x-python",
   "name": "python",
   "nbconvert_exporter": "python",
   "pygments_lexer": "ipython3",
   "version": "3.7.1"
  }
 },
 "nbformat": 4,
 "nbformat_minor": 2
}
